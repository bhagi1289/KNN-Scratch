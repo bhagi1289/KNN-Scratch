{
 "cells": [
  {
   "cell_type": "code",
   "execution_count": 2,
   "metadata": {},
   "outputs": [],
   "source": [
    "import numpy as np\n",
    "import pandas as pd\n",
    "import matplotlib.pyplot as plt\n",
    "\n",
    "#!pip install matplotlib"
   ]
  },
  {
   "cell_type": "code",
   "execution_count": 3,
   "metadata": {},
   "outputs": [],
   "source": [
    "#Read train data\n",
    "train_data = pd.read_csv(\"dataset/train.csv\")"
   ]
  },
  {
   "cell_type": "code",
   "execution_count": 4,
   "metadata": {},
   "outputs": [
    {
     "data": {
      "text/html": [
       "<div>\n",
       "<style scoped>\n",
       "    .dataframe tbody tr th:only-of-type {\n",
       "        vertical-align: middle;\n",
       "    }\n",
       "\n",
       "    .dataframe tbody tr th {\n",
       "        vertical-align: top;\n",
       "    }\n",
       "\n",
       "    .dataframe thead th {\n",
       "        text-align: right;\n",
       "    }\n",
       "</style>\n",
       "<table border=\"1\" class=\"dataframe\">\n",
       "  <thead>\n",
       "    <tr style=\"text-align: right;\">\n",
       "      <th></th>\n",
       "      <th>Weight</th>\n",
       "      <th>Colour</th>\n",
       "      <th>Label</th>\n",
       "    </tr>\n",
       "  </thead>\n",
       "  <tbody>\n",
       "    <tr>\n",
       "      <th>0</th>\n",
       "      <td>303</td>\n",
       "      <td>3</td>\n",
       "      <td>B</td>\n",
       "    </tr>\n",
       "    <tr>\n",
       "      <th>1</th>\n",
       "      <td>370</td>\n",
       "      <td>1</td>\n",
       "      <td>A</td>\n",
       "    </tr>\n",
       "    <tr>\n",
       "      <th>2</th>\n",
       "      <td>298</td>\n",
       "      <td>3</td>\n",
       "      <td>B</td>\n",
       "    </tr>\n",
       "    <tr>\n",
       "      <th>3</th>\n",
       "      <td>277</td>\n",
       "      <td>3</td>\n",
       "      <td>B</td>\n",
       "    </tr>\n",
       "    <tr>\n",
       "      <th>4</th>\n",
       "      <td>377</td>\n",
       "      <td>4</td>\n",
       "      <td>A</td>\n",
       "    </tr>\n",
       "  </tbody>\n",
       "</table>\n",
       "</div>"
      ],
      "text/plain": [
       "   Weight  Colour Label\n",
       "0     303       3     B\n",
       "1     370       1     A\n",
       "2     298       3     B\n",
       "3     277       3     B\n",
       "4     377       4     A"
      ]
     },
     "execution_count": 4,
     "metadata": {},
     "output_type": "execute_result"
    }
   ],
   "source": [
    "train_data.head()"
   ]
  },
  {
   "cell_type": "markdown",
   "metadata": {},
   "source": [
    "#### About our Train Data"
   ]
  },
  {
   "cell_type": "markdown",
   "metadata": {},
   "source": [
    "1. we have `Weight`, `Colour` are the features and `Label` as label\n",
    "2. using Weight and Color of fruit we have to predict what type of fruit in test data"
   ]
  },
  {
   "cell_type": "code",
   "execution_count": 5,
   "metadata": {},
   "outputs": [
    {
     "data": {
      "text/plain": [
       "array(['B', 'A'], dtype=object)"
      ]
     },
     "execution_count": 5,
     "metadata": {},
     "output_type": "execute_result"
    }
   ],
   "source": [
    "train_data['Label'].unique()"
   ]
  },
  {
   "cell_type": "markdown",
   "metadata": {},
   "source": [
    "Here we have only two unique fruits available in our label data."
   ]
  },
  {
   "cell_type": "code",
   "execution_count": 6,
   "metadata": {},
   "outputs": [],
   "source": [
    "def euclidean_disance(a, b):\n",
    "    \"\"\"\n",
    "    Returns a float value that computes euclidean distance between two points.\n",
    "    \n",
    "    This function is useful to calculate the Euclidean Distance between two points.\n",
    "    \n",
    "    \n",
    "    Parameters\n",
    "    ----------\n",
    "    a,b : tuple/array required\n",
    "        contains two numbers(integer/float) index-0 contains,\n",
    "        X-Coordinate, index-1 containe Y-Coordinate.\n",
    "    \"\"\"\n",
    "    #a=(x1, y1), b=(x2, y2)\n",
    "    if not (len(a) == 2 and len(b) == 2):\n",
    "        raise ValueError('length of a and b expected to 2 but got for a:{} and for b:{}'.format(len(a), len(b))) \n",
    "    return np.sqrt( (b[0] - a[0])**2 + (b[1] - a[1])**2  )\n",
    "    \n",
    "    "
   ]
  },
  {
   "cell_type": "code",
   "execution_count": 7,
   "metadata": {},
   "outputs": [
    {
     "data": {
      "text/plain": [
       "(17, 3)"
      ]
     },
     "execution_count": 7,
     "metadata": {},
     "output_type": "execute_result"
    }
   ],
   "source": [
    "train_data.shape"
   ]
  },
  {
   "cell_type": "markdown",
   "metadata": {},
   "source": [
    "## Read Test Data"
   ]
  },
  {
   "cell_type": "code",
   "execution_count": 8,
   "metadata": {},
   "outputs": [],
   "source": [
    "#Read test data\n",
    "test_data = pd.read_csv(\"dataset/test.csv\")"
   ]
  },
  {
   "cell_type": "code",
   "execution_count": 9,
   "metadata": {},
   "outputs": [
    {
     "data": {
      "text/html": [
       "<div>\n",
       "<style scoped>\n",
       "    .dataframe tbody tr th:only-of-type {\n",
       "        vertical-align: middle;\n",
       "    }\n",
       "\n",
       "    .dataframe tbody tr th {\n",
       "        vertical-align: top;\n",
       "    }\n",
       "\n",
       "    .dataframe thead th {\n",
       "        text-align: right;\n",
       "    }\n",
       "</style>\n",
       "<table border=\"1\" class=\"dataframe\">\n",
       "  <thead>\n",
       "    <tr style=\"text-align: right;\">\n",
       "      <th></th>\n",
       "      <th>Weight</th>\n",
       "      <th>Colour</th>\n",
       "    </tr>\n",
       "  </thead>\n",
       "  <tbody>\n",
       "    <tr>\n",
       "      <th>0</th>\n",
       "      <td>318.1</td>\n",
       "      <td>3</td>\n",
       "    </tr>\n",
       "    <tr>\n",
       "      <th>1</th>\n",
       "      <td>293.8</td>\n",
       "      <td>3</td>\n",
       "    </tr>\n",
       "    <tr>\n",
       "      <th>2</th>\n",
       "      <td>277.3</td>\n",
       "      <td>2</td>\n",
       "    </tr>\n",
       "    <tr>\n",
       "      <th>3</th>\n",
       "      <td>324.2</td>\n",
       "      <td>4</td>\n",
       "    </tr>\n",
       "    <tr>\n",
       "      <th>4</th>\n",
       "      <td>327.0</td>\n",
       "      <td>2</td>\n",
       "    </tr>\n",
       "  </tbody>\n",
       "</table>\n",
       "</div>"
      ],
      "text/plain": [
       "   Weight  Colour\n",
       "0   318.1       3\n",
       "1   293.8       3\n",
       "2   277.3       2\n",
       "3   324.2       4\n",
       "4   327.0       2"
      ]
     },
     "execution_count": 9,
     "metadata": {},
     "output_type": "execute_result"
    }
   ],
   "source": [
    "test_data.head()"
   ]
  },
  {
   "cell_type": "code",
   "execution_count": 10,
   "metadata": {},
   "outputs": [
    {
     "data": {
      "text/plain": [
       "(30, 2)"
      ]
     },
     "execution_count": 10,
     "metadata": {},
     "output_type": "execute_result"
    }
   ],
   "source": [
    "test_data.shape"
   ]
  },
  {
   "cell_type": "markdown",
   "metadata": {},
   "source": [
    "Main logic begins here,\n",
    "Here we have to compute distance with test and train data means, follow the below points\n",
    "    - take one point from test and compute the distance with each and every point in train data\n",
    "    - save the distance and label in an array\n",
    "    - repeat it with every other point in test data\n",
    "    - after that sort them according to the distance and apply k\n",
    "    - now find the predicted label using majority voting system."
   ]
  },
  {
   "cell_type": "code",
   "execution_count": 11,
   "metadata": {},
   "outputs": [],
   "source": [
    "# https://stackoverflow.com/questions/47843707/count-frequency-of-item-in-a-list-of-tuples\n",
    "from collections import Counter\n",
    "\n",
    "def majority_votes(a):\n",
    "    \"\"\"\n",
    "    Returns a string which has more major count in the given list.\n",
    "    \n",
    "    Parameters\n",
    "    ----------\n",
    "    a: array required\n",
    "       contains array of tuples with first element is distance and second element as label\n",
    "    \"\"\"\n",
    "    counts = Counter(x[1] for x in a)\n",
    "    return 'B' if counts['B']>counts['A'] else 'A'"
   ]
  },
  {
   "cell_type": "code",
   "execution_count": 12,
   "metadata": {},
   "outputs": [],
   "source": [
    "test_dict = test_data.to_dict('records')\n",
    "#     print(row['Weight'], row['Colour'])\n",
    "train_dict = train_data.to_dict('records')\n",
    "\n",
    "# Taking K as default value 5\n",
    "k = 5 # hyper-parameter\n",
    "\n",
    "predicted_labels = []\n",
    "\n",
    "for test_row in test_dict:\n",
    "    test_point = (test_row['Weight'], test_row['Colour'])\n",
    "    measured_distances = []\n",
    "    \n",
    "    for train_row in train_dict:\n",
    "        train_point = (train_row['Weight'], train_row['Colour'])\n",
    "        distance = euclidean_disance(test_point, train_point)\n",
    "        measured_distances.append((distance, train_row['Label']))\n",
    "        # Sorted_distances\n",
    "        measured_distances.sort() # as my first element is a distance(float) in tuple default sort works here\n",
    "        measured_distances = measured_distances[:k]\n",
    "#     print(measured_distances)\n",
    "    predicted_labels.append(majority_votes(measured_distances))\n",
    "        \n"
   ]
  },
  {
   "cell_type": "markdown",
   "metadata": {},
   "source": [
    "# Checking predicted values"
   ]
  },
  {
   "cell_type": "markdown",
   "metadata": {},
   "source": [
    "Here we have another file, which has list of all predicted values. \n",
    "so we will check our knn accuracy"
   ]
  },
  {
   "cell_type": "code",
   "execution_count": 13,
   "metadata": {},
   "outputs": [
    {
     "name": "stdout",
     "output_type": "stream",
     "text": [
      "Accuracy: 100.0 %\n"
     ]
    }
   ],
   "source": [
    "defined_labels = pd.read_csv('dataset/test-labels.csv')\n",
    "count = 0\n",
    "defined_labels_dict = defined_labels.to_dict('records')\n",
    "\n",
    "for row in defined_labels_dict:\n",
    "    if row['Label'] in predicted_labels:\n",
    "        count += 1\n",
    "accuracy = count/len(test_dict)\n",
    "print('Accuracy: {} %'.format( accuracy * 100.0))"
   ]
  },
  {
   "cell_type": "code",
   "execution_count": null,
   "metadata": {},
   "outputs": [],
   "source": []
  }
 ],
 "metadata": {
  "kernelspec": {
   "display_name": "Python 3",
   "language": "python",
   "name": "python3"
  },
  "language_info": {
   "codemirror_mode": {
    "name": "ipython",
    "version": 3
   },
   "file_extension": ".py",
   "mimetype": "text/x-python",
   "name": "python",
   "nbconvert_exporter": "python",
   "pygments_lexer": "ipython3",
   "version": "3.7.1"
  }
 },
 "nbformat": 4,
 "nbformat_minor": 2
}
